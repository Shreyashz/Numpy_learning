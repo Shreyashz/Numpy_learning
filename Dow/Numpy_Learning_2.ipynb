{
 "cells": [
  {
   "cell_type": "markdown",
   "id": "cd67d024",
   "metadata": {},
   "source": [
    "# Hi, my Name is Shreyash "
   ]
  },
  {
   "cell_type": "markdown",
   "id": "c321df20",
   "metadata": {},
   "source": [
    "### Lets import Numpy first and find the answer of the last exercise"
   ]
  },
  {
   "cell_type": "code",
   "execution_count": 1,
   "id": "8b35e6e3",
   "metadata": {},
   "outputs": [],
   "source": [
    "import numpy as np"
   ]
  },
  {
   "cell_type": "code",
   "execution_count": 34,
   "id": "8b1579fb",
   "metadata": {},
   "outputs": [
    {
     "name": "stdout",
     "output_type": "stream",
     "text": [
      "[[1. 1. 1. 1. 1.]\n",
      " [1. 0. 0. 0. 1.]\n",
      " [1. 0. 9. 0. 1.]\n",
      " [1. 0. 0. 0. 1.]\n",
      " [1. 1. 1. 1. 1.]]\n"
     ]
    }
   ],
   "source": [
    "a=np.ones((5,5))\n",
    "x=np.zeros((3,3))\n",
    "a[1:4,1:4]=x\n",
    "a[2,2]=9\n",
    "print(a)"
   ]
  },
  {
   "cell_type": "markdown",
   "id": "b80dd777",
   "metadata": {},
   "source": [
    "######  When we assign Numpy array to another variable and the copy of the array isn't created it points to the array meaning "
   ]
  },
  {
   "cell_type": "code",
   "execution_count": 35,
   "id": "c2d3df29",
   "metadata": {},
   "outputs": [
    {
     "name": "stdout",
     "output_type": "stream",
     "text": [
      "[100   3   4]\n"
     ]
    }
   ],
   "source": [
    "a=np.array([1, 3, 4])\n",
    "b=a\n",
    "b[0] =100\n",
    "print(a)"
   ]
  },
  {
   "cell_type": "markdown",
   "id": "99b2be8a",
   "metadata": {},
   "source": [
    "###### So, if you want to copy b to a and want them to behave separately you may try to use the array's method to make it behaving the way we intend "
   ]
  },
  {
   "cell_type": "code",
   "execution_count": 37,
   "id": "43eec8cc",
   "metadata": {},
   "outputs": [
    {
     "name": "stdout",
     "output_type": "stream",
     "text": [
      "[1 3 4]  and  [100   3   4]\n"
     ]
    }
   ],
   "source": [
    "a=np.array([1, 3, 4])\n",
    "b=a.copy()\n",
    "b[0] =100\n",
    "print(a,\" and \", b)"
   ]
  },
  {
   "cell_type": "markdown",
   "id": "9d9f0cfe",
   "metadata": {},
   "source": [
    "## Mathmetics"
   ]
  },
  {
   "cell_type": "markdown",
   "id": "0c8443d7",
   "metadata": {},
   "source": [
    "#### It does element wise operations "
   ]
  },
  {
   "cell_type": "markdown",
   "id": "43efedf4",
   "metadata": {},
   "source": [
    "###### Also this jupyter notebook takes excution order no.(Whatever is In[no]) as indicator of the present variable values so if the below line wouldn't have had reinitialization of the array it would've made the array repeated everytime we excute the line and the array would keep growing "
   ]
  },
  {
   "cell_type": "code",
   "execution_count": 77,
   "id": "a8041451",
   "metadata": {},
   "outputs": [
    {
     "data": {
      "text/plain": [
       "array([1, 2, 3])"
      ]
     },
     "execution_count": 77,
     "metadata": {},
     "output_type": "execute_result"
    }
   ],
   "source": [
    "a=np.array([1,2,3])\n",
    "a"
   ]
  },
  {
   "cell_type": "code",
   "execution_count": 78,
   "id": "e39f6ada",
   "metadata": {},
   "outputs": [
    {
     "data": {
      "text/plain": [
       "array([-1,  0,  1])"
      ]
     },
     "execution_count": 78,
     "metadata": {},
     "output_type": "execute_result"
    }
   ],
   "source": [
    "a-2"
   ]
  },
  {
   "cell_type": "code",
   "execution_count": 79,
   "id": "92f55c66",
   "metadata": {},
   "outputs": [
    {
     "data": {
      "text/plain": [
       "array([2, 4, 6])"
      ]
     },
     "execution_count": 79,
     "metadata": {},
     "output_type": "execute_result"
    }
   ],
   "source": [
    "a*2"
   ]
  },
  {
   "cell_type": "code",
   "execution_count": 80,
   "id": "1807122b",
   "metadata": {},
   "outputs": [
    {
     "data": {
      "text/plain": [
       "array([0.5, 1. , 1.5])"
      ]
     },
     "execution_count": 80,
     "metadata": {},
     "output_type": "execute_result"
    }
   ],
   "source": [
    "a/2"
   ]
  },
  {
   "cell_type": "code",
   "execution_count": 81,
   "id": "6f09dcfc",
   "metadata": {},
   "outputs": [
    {
     "data": {
      "text/plain": [
       "array([1, 3, 3])"
      ]
     },
     "execution_count": 81,
     "metadata": {},
     "output_type": "execute_result"
    }
   ],
   "source": [
    "b=np.array([0,1,0])\n",
    "a +b"
   ]
  },
  {
   "cell_type": "code",
   "execution_count": 82,
   "id": "e9ef00fe",
   "metadata": {},
   "outputs": [
    {
     "data": {
      "text/plain": [
       "array([1, 4, 9])"
      ]
     },
     "execution_count": 82,
     "metadata": {},
     "output_type": "execute_result"
    }
   ],
   "source": [
    "a ** 2"
   ]
  },
  {
   "cell_type": "code",
   "execution_count": 84,
   "id": "8698cb1b",
   "metadata": {},
   "outputs": [
    {
     "data": {
      "text/plain": [
       "array([0.84147098, 0.90929743, 0.14112001])"
      ]
     },
     "execution_count": 84,
     "metadata": {},
     "output_type": "execute_result"
    }
   ],
   "source": [
    "np.sin(a)"
   ]
  },
  {
   "cell_type": "code",
   "execution_count": 85,
   "id": "213f6b9f",
   "metadata": {},
   "outputs": [
    {
     "data": {
      "text/plain": [
       "array([ 0.54030231, -0.41614684, -0.9899925 ])"
      ]
     },
     "execution_count": 85,
     "metadata": {},
     "output_type": "execute_result"
    }
   ],
   "source": [
    "np.cos(a)"
   ]
  },
  {
   "cell_type": "markdown",
   "id": "b5a8b7a0",
   "metadata": {},
   "source": [
    "## Linear Algebra "
   ]
  },
  {
   "cell_type": "markdown",
   "id": "b575ab2c",
   "metadata": {},
   "source": [
    "#### Mtrix Stuff "
   ]
  },
  {
   "cell_type": "markdown",
   "id": "47d8d7da",
   "metadata": {},
   "source": [
    "###### Creating Identity matrix"
   ]
  },
  {
   "cell_type": "code",
   "execution_count": 90,
   "id": "fadc719e",
   "metadata": {},
   "outputs": [
    {
     "data": {
      "text/plain": [
       "array([[1., 0., 0.],\n",
       "       [0., 1., 0.],\n",
       "       [0., 0., 1.]])"
      ]
     },
     "execution_count": 90,
     "metadata": {},
     "output_type": "execute_result"
    }
   ],
   "source": [
    "c=np.identity(3)\n",
    "c"
   ]
  },
  {
   "cell_type": "markdown",
   "id": "0f6d4795",
   "metadata": {},
   "source": [
    "##### Matrix multiplication"
   ]
  },
  {
   "cell_type": "code",
   "execution_count": 88,
   "id": "1bf33b18",
   "metadata": {},
   "outputs": [
    {
     "data": {
      "text/plain": [
       "array([[6., 6.],\n",
       "       [6., 6.]])"
      ]
     },
     "execution_count": 88,
     "metadata": {},
     "output_type": "execute_result"
    }
   ],
   "source": [
    "a=np.ones((2,3))\n",
    "a\n",
    "b=np.full((3,2),2)\n",
    "np.matmul(a,b)"
   ]
  },
  {
   "cell_type": "markdown",
   "id": "62e845ed",
   "metadata": {},
   "source": [
    "##### Finding the determinent of the matrix"
   ]
  },
  {
   "cell_type": "code",
   "execution_count": 91,
   "id": "7b66a62d",
   "metadata": {},
   "outputs": [
    {
     "data": {
      "text/plain": [
       "1.0"
      ]
     },
     "execution_count": 91,
     "metadata": {},
     "output_type": "execute_result"
    }
   ],
   "source": [
    "np.linalg.det(c)"
   ]
  },
  {
   "cell_type": "markdown",
   "id": "033e8e21",
   "metadata": {},
   "source": [
    "## Statistics"
   ]
  },
  {
   "cell_type": "code",
   "execution_count": 92,
   "id": "e33ff01d",
   "metadata": {},
   "outputs": [
    {
     "data": {
      "text/plain": [
       "array([[1, 2, 3],\n",
       "       [4, 5, 6]])"
      ]
     },
     "execution_count": 92,
     "metadata": {},
     "output_type": "execute_result"
    }
   ],
   "source": [
    "stats = np.array([[1,2,3],[4,5,6]])\n",
    "stats"
   ]
  },
  {
   "cell_type": "code",
   "execution_count": 93,
   "id": "46ab0a12",
   "metadata": {},
   "outputs": [
    {
     "data": {
      "text/plain": [
       "1"
      ]
     },
     "execution_count": 93,
     "metadata": {},
     "output_type": "execute_result"
    }
   ],
   "source": [
    "np.min(stats)"
   ]
  },
  {
   "cell_type": "code",
   "execution_count": 94,
   "id": "370ade2a",
   "metadata": {},
   "outputs": [
    {
     "data": {
      "text/plain": [
       "6"
      ]
     },
     "execution_count": 94,
     "metadata": {},
     "output_type": "execute_result"
    }
   ],
   "source": [
    "np.max(stats)"
   ]
  },
  {
   "cell_type": "markdown",
   "id": "058ed4c7",
   "metadata": {},
   "source": [
    "##### Get min or max from each row with axis=1"
   ]
  },
  {
   "cell_type": "code",
   "execution_count": 96,
   "id": "8bf24a71",
   "metadata": {},
   "outputs": [
    {
     "data": {
      "text/plain": [
       "array([1, 4])"
      ]
     },
     "execution_count": 96,
     "metadata": {},
     "output_type": "execute_result"
    }
   ],
   "source": [
    "np.min(stats, axis=1)"
   ]
  },
  {
   "cell_type": "code",
   "execution_count": 97,
   "id": "a274820f",
   "metadata": {},
   "outputs": [
    {
     "data": {
      "text/plain": [
       "array([3, 6])"
      ]
     },
     "execution_count": 97,
     "metadata": {},
     "output_type": "execute_result"
    }
   ],
   "source": [
    "np.max(stats, axis=1)"
   ]
  },
  {
   "cell_type": "markdown",
   "id": "b9dfaf7f",
   "metadata": {},
   "source": [
    "##### Get ~Some~ Sum"
   ]
  },
  {
   "cell_type": "code",
   "execution_count": 98,
   "id": "4b97141f",
   "metadata": {},
   "outputs": [
    {
     "data": {
      "text/plain": [
       "21"
      ]
     },
     "execution_count": 98,
     "metadata": {},
     "output_type": "execute_result"
    }
   ],
   "source": [
    "np.sum(stats)"
   ]
  },
  {
   "cell_type": "code",
   "execution_count": 99,
   "id": "ea78f6fd",
   "metadata": {},
   "outputs": [
    {
     "data": {
      "text/plain": [
       "array([ 6, 15])"
      ]
     },
     "execution_count": 99,
     "metadata": {},
     "output_type": "execute_result"
    }
   ],
   "source": [
    "np.sum(stats, axis=1)"
   ]
  },
  {
   "cell_type": "markdown",
   "id": "69ffec0a",
   "metadata": {},
   "source": [
    "## Reorganizing Arrays "
   ]
  },
  {
   "cell_type": "code",
   "execution_count": 101,
   "id": "068f51b9",
   "metadata": {},
   "outputs": [
    {
     "name": "stdout",
     "output_type": "stream",
     "text": [
      "Before: [[1 2 3 4]\n",
      " [5 6 7 8]]\n",
      "After: [[1 2 3 4 5 6 7 8]]\n"
     ]
    }
   ],
   "source": [
    "before=np.array([[1, 2, 3, 4],[5, 6, 7,8]])\n",
    "after=before.reshape((1,8))\n",
    "print (\"Before:\", before)\n",
    "print(\"After:\", after)"
   ]
  },
  {
   "cell_type": "markdown",
   "id": "37b4028b",
   "metadata": {},
   "source": [
    "#### Stacking vectors"
   ]
  },
  {
   "cell_type": "markdown",
   "id": "3bf50be1",
   "metadata": {},
   "source": [
    "###### Vertical Stack"
   ]
  },
  {
   "cell_type": "code",
   "execution_count": 105,
   "id": "2823c250",
   "metadata": {},
   "outputs": [
    {
     "data": {
      "text/plain": [
       "array([[1, 2, 3, 4],\n",
       "       [5, 6, 7, 8],\n",
       "       [1, 2, 3, 4]])"
      ]
     },
     "execution_count": 105,
     "metadata": {},
     "output_type": "execute_result"
    }
   ],
   "source": [
    "v1=np.array([1,2,3,4])\n",
    "v2=np.array([5,6,7,8])\n",
    "np.vstack((v1, v2, v1))"
   ]
  },
  {
   "cell_type": "markdown",
   "id": "2ce308ff",
   "metadata": {},
   "source": [
    "###### Horizontal Stack"
   ]
  },
  {
   "cell_type": "code",
   "execution_count": 107,
   "id": "8f00ff42",
   "metadata": {},
   "outputs": [
    {
     "data": {
      "text/plain": [
       "array([[0., 0., 0., 0., 1., 1., 1., 1., 0., 0., 0., 0.],\n",
       "       [0., 0., 0., 0., 1., 1., 1., 1., 0., 0., 0., 0.]])"
      ]
     },
     "execution_count": 107,
     "metadata": {},
     "output_type": "execute_result"
    }
   ],
   "source": [
    "v1=np.zeros((2,4))\n",
    "v2=np.ones((2,2))\n",
    "\n",
    "np.hstack((v1, v2, v2, v1))"
   ]
  },
  {
   "cell_type": "markdown",
   "id": "9cd93d96",
   "metadata": {},
   "source": [
    "## Miscellaneous"
   ]
  },
  {
   "cell_type": "markdown",
   "id": "aed1f07c",
   "metadata": {},
   "source": [
    "##### Load data from file"
   ]
  },
  {
   "cell_type": "markdown",
   "id": "a5977c7d",
   "metadata": {},
   "source": [
    "###### Delimiter defines what seperates the data\n",
    "data from:https://github.com/KeithGalli/NumPy"
   ]
  },
  {
   "cell_type": "code",
   "execution_count": 110,
   "id": "143a3c69",
   "metadata": {},
   "outputs": [
    {
     "data": {
      "text/plain": [
       "array([[  1.,  13.,  21.,  11., 196.,  75.,   4.,   3.,  34.,   6.,   7.,\n",
       "          8.,   0.,   1.,   2.,   3.,   4.,   5.],\n",
       "       [  3.,  42.,  12.,  33., 766.,  75.,   4.,  55.,   6.,   4.,   3.,\n",
       "          4.,   5.,   6.,   7.,   0.,  11.,  12.],\n",
       "       [  1.,  22.,  33.,  11., 999.,  11.,   2.,   1.,  78.,   0.,   1.,\n",
       "          2.,   9.,   8.,   7.,   1.,  76.,  88.]])"
      ]
     },
     "execution_count": 110,
     "metadata": {},
     "output_type": "execute_result"
    }
   ],
   "source": [
    "filedata=np.genfromtxt('data.txt', delimiter=',')\n",
    "filedata"
   ]
  },
  {
   "cell_type": "markdown",
   "id": "53705f41",
   "metadata": {},
   "source": [
    "###### change data type of the file"
   ]
  },
  {
   "cell_type": "code",
   "execution_count": 114,
   "id": "240fbc02",
   "metadata": {},
   "outputs": [
    {
     "data": {
      "text/plain": [
       "array([[  1,  13,  21,  11, 196,  75,   4,   3,  34,   6,   7,   8,   0,\n",
       "          1,   2,   3,   4,   5],\n",
       "       [  3,  42,  12,  33, 766,  75,   4,  55,   6,   4,   3,   4,   5,\n",
       "          6,   7,   0,  11,  12],\n",
       "       [  1,  22,  33,  11, 999,  11,   2,   1,  78,   0,   1,   2,   9,\n",
       "          8,   7,   1,  76,  88]])"
      ]
     },
     "execution_count": 114,
     "metadata": {},
     "output_type": "execute_result"
    }
   ],
   "source": [
    "filedata=filedata.astype('int32')\n",
    "filedata"
   ]
  },
  {
   "cell_type": "markdown",
   "id": "1acca899",
   "metadata": {},
   "source": [
    "#### Boolean masking and Advanced indexing"
   ]
  },
  {
   "cell_type": "markdown",
   "id": "77424614",
   "metadata": {},
   "source": [
    "###### Comparing"
   ]
  },
  {
   "cell_type": "code",
   "execution_count": 115,
   "id": "d78498b8",
   "metadata": {},
   "outputs": [
    {
     "data": {
      "text/plain": [
       "array([[False, False, False, False,  True,  True, False, False, False,\n",
       "        False, False, False, False, False, False, False, False, False],\n",
       "       [False, False, False, False,  True,  True, False,  True, False,\n",
       "        False, False, False, False, False, False, False, False, False],\n",
       "       [False, False, False, False,  True, False, False, False,  True,\n",
       "        False, False, False, False, False, False, False,  True,  True]])"
      ]
     },
     "execution_count": 115,
     "metadata": {},
     "output_type": "execute_result"
    }
   ],
   "source": [
    "filedata>50"
   ]
  },
  {
   "cell_type": "markdown",
   "id": "7d46b18f",
   "metadata": {},
   "source": [
    "###### Get values grater than 50 from the array"
   ]
  },
  {
   "cell_type": "code",
   "execution_count": 117,
   "id": "2cbcce1e",
   "metadata": {},
   "outputs": [
    {
     "data": {
      "text/plain": [
       "array([196,  75, 766,  75,  55, 999,  78,  76,  88])"
      ]
     },
     "execution_count": 117,
     "metadata": {},
     "output_type": "execute_result"
    }
   ],
   "source": [
    "filedata[filedata>50]"
   ]
  },
  {
   "cell_type": "markdown",
   "id": "bae375ef",
   "metadata": {},
   "source": [
    "###### Also we can index with lists"
   ]
  },
  {
   "cell_type": "code",
   "execution_count": 118,
   "id": "2c2dc2b8",
   "metadata": {},
   "outputs": [
    {
     "data": {
      "text/plain": [
       "array([1, 3, 6])"
      ]
     },
     "execution_count": 118,
     "metadata": {},
     "output_type": "execute_result"
    }
   ],
   "source": [
    "a=np.array([1, 2, 3, 4, 5, 6])\n",
    "a[[0, 2, 5]]"
   ]
  },
  {
   "cell_type": "markdown",
   "id": "b0ca8837",
   "metadata": {},
   "source": [
    "###### Tells us which colums stisfy the condition of the array\n",
    "axis =1 will show that data for the rows"
   ]
  },
  {
   "cell_type": "code",
   "execution_count": 123,
   "id": "82df35b9",
   "metadata": {},
   "outputs": [
    {
     "data": {
      "text/plain": [
       "array([False, False, False, False,  True,  True, False,  True,  True,\n",
       "       False, False, False, False, False, False, False,  True,  True])"
      ]
     },
     "execution_count": 123,
     "metadata": {},
     "output_type": "execute_result"
    }
   ],
   "source": [
    "np.any(filedata>50, axis=0)"
   ]
  },
  {
   "cell_type": "code",
   "execution_count": 120,
   "id": "08069978",
   "metadata": {},
   "outputs": [
    {
     "data": {
      "text/plain": [
       "array([False, False, False, False,  True, False, False, False, False,\n",
       "       False, False, False, False, False, False, False, False, False])"
      ]
     },
     "execution_count": 120,
     "metadata": {},
     "output_type": "execute_result"
    }
   ],
   "source": [
    "np.all(filedata>50, axis=0)"
   ]
  },
  {
   "cell_type": "markdown",
   "id": "f998b054",
   "metadata": {},
   "source": [
    "###### Can also use logical conditions for this\n",
    "here Python's `and` dosen't work we need to use `&` for and operation"
   ]
  },
  {
   "cell_type": "code",
   "execution_count": 131,
   "id": "cfa6311e",
   "metadata": {},
   "outputs": [
    {
     "data": {
      "text/plain": [
       "array([75, 75, 55, 78, 76, 88])"
      ]
     },
     "execution_count": 131,
     "metadata": {},
     "output_type": "execute_result"
    }
   ],
   "source": [
    "filedata[(filedata>50) & (filedata<100)]"
   ]
  },
  {
   "cell_type": "markdown",
   "id": "ae527531",
   "metadata": {},
   "source": [
    "###### Just like above we can also use the logical or\n",
    "logical or is ` | ` and logical not is `~`"
   ]
  },
  {
   "cell_type": "code",
   "execution_count": 135,
   "id": "f5cf3bb8",
   "metadata": {},
   "outputs": [
    {
     "data": {
      "text/plain": [
       "array([  1, 196,  75,   4,   3,   6,   7,   8,   0,   1,   2,   3,   4,\n",
       "         5,   3, 766,  75,   4,  55,   6,   4,   3,   4,   5,   6,   7,\n",
       "         0,   1, 999,   2,   1,  78,   0,   1,   2,   9,   8,   7,   1,\n",
       "        76,  88])"
      ]
     },
     "execution_count": 135,
     "metadata": {},
     "output_type": "execute_result"
    }
   ],
   "source": [
    "filedata[(filedata>50) | (filedata<10)]"
   ]
  },
  {
   "cell_type": "code",
   "execution_count": 137,
   "id": "4ba63a60",
   "metadata": {},
   "outputs": [
    {
     "data": {
      "text/plain": [
       "array([ 13,  21,  11, 196,  75,  34,  42,  12,  33, 766,  75,  55,  11,\n",
       "        12,  22,  33,  11, 999,  11,  78,  76,  88])"
      ]
     },
     "execution_count": 137,
     "metadata": {},
     "output_type": "execute_result"
    }
   ],
   "source": [
    "filedata[(filedata>50) | ~(filedata<10)]"
   ]
  },
  {
   "cell_type": "markdown",
   "id": "1f75e7dc",
   "metadata": {},
   "source": [
    "Now, showing valuse grater than fifty or not grater than 10"
   ]
  },
  {
   "cell_type": "markdown",
   "id": "3ef7ffd1",
   "metadata": {},
   "source": [
    "##### Another exercise"
   ]
  },
  {
   "attachments": {
    "image.png": {
     "image/png": "[encoded data removed]"
    }
   },
   "cell_type": "markdown",
   "id": "6977e8ec",
   "metadata": {},
   "source": [
    "![image.png](attachment:image.png)"
   ]
  },
  {
   "cell_type": "markdown",
   "id": "8651b233",
   "metadata": {},
   "source": [
    "##### Solution:"
   ]
  },
  {
   "cell_type": "code",
   "execution_count": 199,
   "id": "b928468a",
   "metadata": {},
   "outputs": [
    {
     "data": {
      "text/plain": [
       "array([[1.]])"
      ]
     },
     "execution_count": 199,
     "metadata": {},
     "output_type": "execute_result"
    }
   ],
   "source": [
    "ans = np.ones((1,1))\n",
    "ans"
   ]
  },
  {
   "cell_type": "code",
   "execution_count": 200,
   "id": "4ff86725",
   "metadata": {},
   "outputs": [
    {
     "data": {
      "text/plain": [
       "array([[1., 2., 3., 4., 5.]])"
      ]
     },
     "execution_count": 200,
     "metadata": {},
     "output_type": "execute_result"
    }
   ],
   "source": [
    "ans=np.hstack((ans,(ans+ans), (ans+ans+ans), (ans+ans+ans+ans), (ans+ans+ans+ans+ans)))\n",
    "ans"
   ]
  },
  {
   "cell_type": "code",
   "execution_count": 201,
   "id": "718034b2",
   "metadata": {},
   "outputs": [
    {
     "data": {
      "text/plain": [
       "array([[ 1.,  2.,  3.,  4.,  5.],\n",
       "       [ 6.,  7.,  8.,  9., 10.]])"
      ]
     },
     "execution_count": 201,
     "metadata": {},
     "output_type": "execute_result"
    }
   ],
   "source": [
    "ans=np.vstack((ans,ans+5))\n",
    "ans"
   ]
  },
  {
   "cell_type": "code",
   "execution_count": 202,
   "id": "878f2514",
   "metadata": {},
   "outputs": [
    {
     "data": {
      "text/plain": [
       "array([[ 1.,  2.,  3.,  4.,  5.],\n",
       "       [ 6.,  7.,  8.,  9., 10.],\n",
       "       [11., 12., 13., 14., 15.]])"
      ]
     },
     "execution_count": 202,
     "metadata": {},
     "output_type": "execute_result"
    }
   ],
   "source": [
    "ans=np.vstack((ans,ans[1,:]+5))\n",
    "ans"
   ]
  },
  {
   "cell_type": "code",
   "execution_count": 203,
   "id": "84527abb",
   "metadata": {},
   "outputs": [
    {
     "data": {
      "text/plain": [
       "array([[ 1.,  2.,  3.,  4.,  5.],\n",
       "       [ 6.,  7.,  8.,  9., 10.],\n",
       "       [11., 12., 13., 14., 15.],\n",
       "       [16., 17., 18., 19., 20.],\n",
       "       [21., 22., 23., 24., 25.],\n",
       "       [26., 27., 28., 29., 30.]])"
      ]
     },
     "execution_count": 203,
     "metadata": {},
     "output_type": "execute_result"
    }
   ],
   "source": [
    "ans=np.vstack((ans, ans+15))\n",
    "ans"
   ]
  },
  {
   "cell_type": "markdown",
   "id": "efe0dde4",
   "metadata": {},
   "source": [
    "###### Intresting Solutions"
   ]
  },
  {
   "cell_type": "code",
   "execution_count": 209,
   "id": "ff178fb7",
   "metadata": {},
   "outputs": [
    {
     "data": {
      "text/plain": [
       "array([[11., 12.],\n",
       "       [16., 17.]])"
      ]
     },
     "execution_count": 209,
     "metadata": {},
     "output_type": "execute_result"
    }
   ],
   "source": [
    "ans[2:4, 0:2]"
   ]
  },
  {
   "cell_type": "code",
   "execution_count": 211,
   "id": "6cd905bc",
   "metadata": {},
   "outputs": [
    {
     "data": {
      "text/plain": [
       "array([ 2.,  8., 14., 20.])"
      ]
     },
     "execution_count": 211,
     "metadata": {},
     "output_type": "execute_result"
    }
   ],
   "source": [
    "ans[[0,1,2,3],[1,2,3,4]]"
   ]
  },
  {
   "cell_type": "code",
   "execution_count": 215,
   "id": "ce39b918",
   "metadata": {},
   "outputs": [
    {
     "data": {
      "text/plain": [
       "array([[ 4.,  5.],\n",
       "       [24., 25.],\n",
       "       [29., 30.]])"
      ]
     },
     "execution_count": 215,
     "metadata": {},
     "output_type": "execute_result"
    }
   ],
   "source": [
    "ans[[0, 4, 5], 3:]"
   ]
  }
 ],
 "metadata": {
  "kernelspec": {
   "display_name": "Python 3 (ipykernel)",
   "language": "python",
   "name": "python3"
  },
  "language_info": {
   "codemirror_mode": {
    "name": "ipython",
    "version": 3
   },
   "file_extension": ".py",
   "mimetype": "text/x-python",
   "name": "python",
   "nbconvert_exporter": "python",
   "pygments_lexer": "ipython3",
   "version": "3.10.4"
  }
 },
 "nbformat": 4,
 "nbformat_minor": 5
}
